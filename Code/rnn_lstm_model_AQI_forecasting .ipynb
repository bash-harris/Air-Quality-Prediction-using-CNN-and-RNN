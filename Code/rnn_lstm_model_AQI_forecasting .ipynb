{
  "nbformat": 4,
  "nbformat_minor": 0,
  "metadata": {
    "kernelspec": {
      "display_name": "Python 3",
      "language": "python",
      "name": "python3"
    },
    "language_info": {
      "codemirror_mode": {
        "name": "ipython",
        "version": 3
      },
      "file_extension": ".py",
      "mimetype": "text/x-python",
      "name": "python",
      "nbconvert_exporter": "python",
      "pygments_lexer": "ipython3",
      "version": "3.7.6"
    },
    "colab": {
      "name": "rnn-lstm-model-AQI-forecasting.ipynb",
      "provenance": []
    }
  },
  "cells": [
    {
      "cell_type": "code",
      "metadata": {
        "_cell_guid": "79c7e3d0-c299-4dcb-8224-4455121ee9b0",
        "_uuid": "d629ff2d2480ee46fbb7e2d37f6b5fab8052498a",
        "id": "wvtrrejqTv00"
      },
      "source": [
        "#Importing the required libraries\n",
        "\n",
        "import os\n",
        "import pandas as pd\n",
        "import numpy as np\n",
        "import matplotlib.pyplot as plt\n",
        "import seaborn as sns\n",
        "from datetime import datetime\n",
        "# Ignore harmless warnings\n",
        "import warnings\n",
        "warnings.filterwarnings(\"ignore\")\n",
        "from IPython.display import HTML,display\n",
        "\n",
        "warnings.filterwarnings(\"ignore\")"
      ],
      "execution_count": null,
      "outputs": []
    },
    {
      "cell_type": "code",
      "metadata": {
        "id": "zIZdo45gTv06"
      },
      "source": [
        "#Read the daily city-wise data\n",
        "df= pd.read_csv(\"/city_day.csv\",parse_dates=True)\n",
        "df['Date'] = pd.to_datetime(df['Date'])"
      ],
      "execution_count": null,
      "outputs": []
    },
    {
      "cell_type": "code",
      "metadata": {
        "id": "T5mecJVlTv07"
      },
      "source": [
        "#Keeping only the columns needed\n",
        "df=df[['City','Date','AQI']]"
      ],
      "execution_count": null,
      "outputs": []
    },
    {
      "cell_type": "code",
      "metadata": {
        "id": "q3g7EPOmTv08"
      },
      "source": [
        "delhi = df[df['City'] == 'Delhi']\n",
        "delhi.drop(['City'],axis=1,inplace = True)\n",
        "delhi.set_index('Date', inplace = True)\n"
      ],
      "execution_count": null,
      "outputs": []
    },
    {
      "cell_type": "code",
      "metadata": {
        "colab": {
          "base_uri": "https://localhost:8080/",
          "height": 445
        },
        "id": "3A2FDxoXTv09",
        "outputId": "31a1bd3e-1f9a-46a2-bcf4-c3a6208f3483"
      },
      "source": [
        "delhi"
      ],
      "execution_count": null,
      "outputs": [
        {
          "output_type": "execute_result",
          "data": {
            "text/html": [
              "<div>\n",
              "<style scoped>\n",
              "    .dataframe tbody tr th:only-of-type {\n",
              "        vertical-align: middle;\n",
              "    }\n",
              "\n",
              "    .dataframe tbody tr th {\n",
              "        vertical-align: top;\n",
              "    }\n",
              "\n",
              "    .dataframe thead th {\n",
              "        text-align: right;\n",
              "    }\n",
              "</style>\n",
              "<table border=\"1\" class=\"dataframe\">\n",
              "  <thead>\n",
              "    <tr style=\"text-align: right;\">\n",
              "      <th></th>\n",
              "      <th>AQI</th>\n",
              "    </tr>\n",
              "    <tr>\n",
              "      <th>Date</th>\n",
              "      <th></th>\n",
              "    </tr>\n",
              "  </thead>\n",
              "  <tbody>\n",
              "    <tr>\n",
              "      <th>2015-01-01</th>\n",
              "      <td>472.0</td>\n",
              "    </tr>\n",
              "    <tr>\n",
              "      <th>2015-01-02</th>\n",
              "      <td>454.0</td>\n",
              "    </tr>\n",
              "    <tr>\n",
              "      <th>2015-01-03</th>\n",
              "      <td>143.0</td>\n",
              "    </tr>\n",
              "    <tr>\n",
              "      <th>2015-01-04</th>\n",
              "      <td>319.0</td>\n",
              "    </tr>\n",
              "    <tr>\n",
              "      <th>2015-01-05</th>\n",
              "      <td>325.0</td>\n",
              "    </tr>\n",
              "    <tr>\n",
              "      <th>...</th>\n",
              "      <td>...</td>\n",
              "    </tr>\n",
              "    <tr>\n",
              "      <th>2020-06-27</th>\n",
              "      <td>112.0</td>\n",
              "    </tr>\n",
              "    <tr>\n",
              "      <th>2020-06-28</th>\n",
              "      <td>196.0</td>\n",
              "    </tr>\n",
              "    <tr>\n",
              "      <th>2020-06-29</th>\n",
              "      <td>233.0</td>\n",
              "    </tr>\n",
              "    <tr>\n",
              "      <th>2020-06-30</th>\n",
              "      <td>114.0</td>\n",
              "    </tr>\n",
              "    <tr>\n",
              "      <th>2020-07-01</th>\n",
              "      <td>101.0</td>\n",
              "    </tr>\n",
              "  </tbody>\n",
              "</table>\n",
              "<p>2009 rows × 1 columns</p>\n",
              "</div>"
            ],
            "text/plain": [
              "              AQI\n",
              "Date             \n",
              "2015-01-01  472.0\n",
              "2015-01-02  454.0\n",
              "2015-01-03  143.0\n",
              "2015-01-04  319.0\n",
              "2015-01-05  325.0\n",
              "...           ...\n",
              "2020-06-27  112.0\n",
              "2020-06-28  196.0\n",
              "2020-06-29  233.0\n",
              "2020-06-30  114.0\n",
              "2020-07-01  101.0\n",
              "\n",
              "[2009 rows x 1 columns]"
            ]
          },
          "metadata": {},
          "execution_count": 7
        }
      ]
    },
    {
      "cell_type": "code",
      "metadata": {
        "id": "BJ8ysoE6Tv0_"
      },
      "source": [
        "#Fill NULL DATA\n",
        "delhi['AQI'].fillna(method = 'bfill',inplace = True)"
      ],
      "execution_count": null,
      "outputs": []
    },
    {
      "cell_type": "code",
      "metadata": {
        "id": "FkaLdaZ1Tv1A"
      },
      "source": [
        "#Taking monthly average\n",
        "delhi=delhi.astype('float64')\n",
        "delhi=delhi.resample(rule='MS').mean()"
      ],
      "execution_count": null,
      "outputs": []
    },
    {
      "cell_type": "code",
      "metadata": {
        "colab": {
          "base_uri": "https://localhost:8080/",
          "height": 496
        },
        "id": "oDIlP8Q3Tv1C",
        "outputId": "8a058ea2-4032-4844-a235-2b51bd4e5161"
      },
      "source": [
        "ax=delhi[['AQI']].plot(figsize=(12,8),grid=True,lw=2,color='Red')\n",
        "ax.autoscale(enable=True, axis='both', tight=True)"
      ],
      "execution_count": null,
      "outputs": [
        {
          "output_type": "display_data",
          "data": {
            "image/png": "[encoded data removed]",
            "text/plain": [
              "<Figure size 864x576 with 1 Axes>"
            ]
          },
          "metadata": {
            "needs_background": "light"
          }
        }
      ]
    },
    {
      "cell_type": "markdown",
      "metadata": {
        "id": "krqtx9PcTv1E"
      },
      "source": [
        "# FORECASTING\n"
      ]
    },
    {
      "cell_type": "code",
      "metadata": {
        "id": "jhOgFrGeTv1J"
      },
      "source": [
        "from statsmodels.tsa.seasonal import seasonal_decompose\n",
        "from sklearn.metrics import mean_squared_error"
      ],
      "execution_count": null,
      "outputs": []
    },
    {
      "cell_type": "code",
      "metadata": {
        "colab": {
          "base_uri": "https://localhost:8080/",
          "height": 297
        },
        "id": "iVVW7iJwTv1K",
        "outputId": "80c306d4-0a74-4ef8-9f5e-f68dd72dcee0"
      },
      "source": [
        "delhi_AQI=delhi['AQI']\n",
        "result=seasonal_decompose(delhi_AQI,model='multiplicative')\n",
        "result.plot();"
      ],
      "execution_count": null,
      "outputs": [
        {
          "output_type": "display_data",
          "data": {
            "image/png": "[encoded data removed]",
            "text/plain": [
              "<Figure size 432x288 with 4 Axes>"
            ]
          },
          "metadata": {
            "needs_background": "light"
          }
        }
      ]
    },
    {
      "cell_type": "markdown",
      "metadata": {
        "id": "MuY96g-YTv1M"
      },
      "source": [
        "# RNN-LSTM MODEL\n"
      ]
    },
    {
      "cell_type": "code",
      "metadata": {
        "id": "uQEhjE_wTv1M"
      },
      "source": [
        "#Splitting the training and testing data\n",
        "\n",
        "train=delhi[:48]\n",
        "test=delhi[48:61]"
      ],
      "execution_count": null,
      "outputs": []
    },
    {
      "cell_type": "code",
      "metadata": {
        "colab": {
          "base_uri": "https://localhost:8080/"
        },
        "id": "PWi2Lt10Tv1N",
        "outputId": "824a6bff-2ed3-4180-b846-68d4dfe8e637"
      },
      "source": [
        "type(train)"
      ],
      "execution_count": null,
      "outputs": [
        {
          "output_type": "execute_result",
          "data": {
            "text/plain": [
              "pandas.core.frame.DataFrame"
            ]
          },
          "metadata": {},
          "execution_count": 15
        }
      ]
    },
    {
      "cell_type": "code",
      "metadata": {
        "colab": {
          "base_uri": "https://localhost:8080/"
        },
        "id": "_GBJ9pxoTv1O",
        "outputId": "e56aaf51-e9b6-4273-db5d-130ba1b87bde"
      },
      "source": [
        "#print(\"Shape of train data:\" + str(train.array.shape))\n",
        "#print(\"Shape of test data:\" + str(test.array.shape))\n",
        "\n",
        "print(\"Shape of train data:\" + str(train.shape))\n",
        "print(\"Shape of test data:\" + str(test.shape))"
      ],
      "execution_count": null,
      "outputs": [
        {
          "output_type": "stream",
          "name": "stdout",
          "text": [
            "Shape of train data:(48, 1)\n",
            "Shape of test data:(13, 1)\n"
          ]
        }
      ]
    },
    {
      "cell_type": "code",
      "metadata": {
        "id": "LXMLAgkbTv1O"
      },
      "source": [
        "#train_arr=np.expand_dims(train, axis=1)\n",
        "#test_arr=np.expand_dims(test, axis=1)\n",
        "\n",
        "train_arr = train\n",
        "test_arr = test"
      ],
      "execution_count": null,
      "outputs": []
    },
    {
      "cell_type": "code",
      "metadata": {
        "colab": {
          "base_uri": "https://localhost:8080/",
          "height": 1000
        },
        "id": "wLUHgn4dTv1P",
        "outputId": "26dfc8f6-5bdf-4ad9-dd75-ea167ff3b395"
      },
      "source": [
        "train_arr"
      ],
      "execution_count": null,
      "outputs": [
        {
          "output_type": "execute_result",
          "data": {
            "text/html": [
              "<div>\n",
              "<style scoped>\n",
              "    .dataframe tbody tr th:only-of-type {\n",
              "        vertical-align: middle;\n",
              "    }\n",
              "\n",
              "    .dataframe tbody tr th {\n",
              "        vertical-align: top;\n",
              "    }\n",
              "\n",
              "    .dataframe thead th {\n",
              "        text-align: right;\n",
              "    }\n",
              "</style>\n",
              "<table border=\"1\" class=\"dataframe\">\n",
              "  <thead>\n",
              "    <tr style=\"text-align: right;\">\n",
              "      <th></th>\n",
              "      <th>AQI</th>\n",
              "    </tr>\n",
              "    <tr>\n",
              "      <th>Date</th>\n",
              "      <th></th>\n",
              "    </tr>\n",
              "  </thead>\n",
              "  <tbody>\n",
              "    <tr>\n",
              "      <th>2015-01-01</th>\n",
              "      <td>342.290323</td>\n",
              "    </tr>\n",
              "    <tr>\n",
              "      <th>2015-02-01</th>\n",
              "      <td>327.928571</td>\n",
              "    </tr>\n",
              "    <tr>\n",
              "      <th>2015-03-01</th>\n",
              "      <td>256.064516</td>\n",
              "    </tr>\n",
              "    <tr>\n",
              "      <th>2015-04-01</th>\n",
              "      <td>305.266667</td>\n",
              "    </tr>\n",
              "    <tr>\n",
              "      <th>2015-05-01</th>\n",
              "      <td>348.580645</td>\n",
              "    </tr>\n",
              "    <tr>\n",
              "      <th>2015-06-01</th>\n",
              "      <td>258.333333</td>\n",
              "    </tr>\n",
              "    <tr>\n",
              "      <th>2015-07-01</th>\n",
              "      <td>200.290323</td>\n",
              "    </tr>\n",
              "    <tr>\n",
              "      <th>2015-08-01</th>\n",
              "      <td>218.064516</td>\n",
              "    </tr>\n",
              "    <tr>\n",
              "      <th>2015-09-01</th>\n",
              "      <td>225.300000</td>\n",
              "    </tr>\n",
              "    <tr>\n",
              "      <th>2015-10-01</th>\n",
              "      <td>325.000000</td>\n",
              "    </tr>\n",
              "    <tr>\n",
              "      <th>2015-11-01</th>\n",
              "      <td>405.033333</td>\n",
              "    </tr>\n",
              "    <tr>\n",
              "      <th>2015-12-01</th>\n",
              "      <td>355.322581</td>\n",
              "    </tr>\n",
              "    <tr>\n",
              "      <th>2016-01-01</th>\n",
              "      <td>441.903226</td>\n",
              "    </tr>\n",
              "    <tr>\n",
              "      <th>2016-02-01</th>\n",
              "      <td>312.448276</td>\n",
              "    </tr>\n",
              "    <tr>\n",
              "      <th>2016-03-01</th>\n",
              "      <td>230.096774</td>\n",
              "    </tr>\n",
              "    <tr>\n",
              "      <th>2016-04-01</th>\n",
              "      <td>290.666667</td>\n",
              "    </tr>\n",
              "    <tr>\n",
              "      <th>2016-05-01</th>\n",
              "      <td>268.354839</td>\n",
              "    </tr>\n",
              "    <tr>\n",
              "      <th>2016-06-01</th>\n",
              "      <td>243.733333</td>\n",
              "    </tr>\n",
              "    <tr>\n",
              "      <th>2016-07-01</th>\n",
              "      <td>165.935484</td>\n",
              "    </tr>\n",
              "    <tr>\n",
              "      <th>2016-08-01</th>\n",
              "      <td>147.419355</td>\n",
              "    </tr>\n",
              "    <tr>\n",
              "      <th>2016-09-01</th>\n",
              "      <td>218.700000</td>\n",
              "    </tr>\n",
              "    <tr>\n",
              "      <th>2016-10-01</th>\n",
              "      <td>411.064516</td>\n",
              "    </tr>\n",
              "    <tr>\n",
              "      <th>2016-11-01</th>\n",
              "      <td>474.833333</td>\n",
              "    </tr>\n",
              "    <tr>\n",
              "      <th>2016-12-01</th>\n",
              "      <td>409.290323</td>\n",
              "    </tr>\n",
              "    <tr>\n",
              "      <th>2017-01-01</th>\n",
              "      <td>354.193548</td>\n",
              "    </tr>\n",
              "    <tr>\n",
              "      <th>2017-02-01</th>\n",
              "      <td>343.928571</td>\n",
              "    </tr>\n",
              "    <tr>\n",
              "      <th>2017-03-01</th>\n",
              "      <td>282.258065</td>\n",
              "    </tr>\n",
              "    <tr>\n",
              "      <th>2017-04-01</th>\n",
              "      <td>316.800000</td>\n",
              "    </tr>\n",
              "    <tr>\n",
              "      <th>2017-05-01</th>\n",
              "      <td>315.419355</td>\n",
              "    </tr>\n",
              "    <tr>\n",
              "      <th>2017-06-01</th>\n",
              "      <td>143.633333</td>\n",
              "    </tr>\n",
              "    <tr>\n",
              "      <th>2017-07-01</th>\n",
              "      <td>67.161290</td>\n",
              "    </tr>\n",
              "    <tr>\n",
              "      <th>2017-08-01</th>\n",
              "      <td>67.645161</td>\n",
              "    </tr>\n",
              "    <tr>\n",
              "      <th>2017-09-01</th>\n",
              "      <td>114.666667</td>\n",
              "    </tr>\n",
              "    <tr>\n",
              "      <th>2017-10-01</th>\n",
              "      <td>284.161290</td>\n",
              "    </tr>\n",
              "    <tr>\n",
              "      <th>2017-11-01</th>\n",
              "      <td>406.733333</td>\n",
              "    </tr>\n",
              "    <tr>\n",
              "      <th>2017-12-01</th>\n",
              "      <td>337.129032</td>\n",
              "    </tr>\n",
              "    <tr>\n",
              "      <th>2018-01-01</th>\n",
              "      <td>349.741935</td>\n",
              "    </tr>\n",
              "    <tr>\n",
              "      <th>2018-02-01</th>\n",
              "      <td>289.178571</td>\n",
              "    </tr>\n",
              "    <tr>\n",
              "      <th>2018-03-01</th>\n",
              "      <td>234.129032</td>\n",
              "    </tr>\n",
              "    <tr>\n",
              "      <th>2018-04-01</th>\n",
              "      <td>245.533333</td>\n",
              "    </tr>\n",
              "    <tr>\n",
              "      <th>2018-05-01</th>\n",
              "      <td>235.322581</td>\n",
              "    </tr>\n",
              "    <tr>\n",
              "      <th>2018-06-01</th>\n",
              "      <td>224.366667</td>\n",
              "    </tr>\n",
              "    <tr>\n",
              "      <th>2018-07-01</th>\n",
              "      <td>112.419355</td>\n",
              "    </tr>\n",
              "    <tr>\n",
              "      <th>2018-08-01</th>\n",
              "      <td>122.064516</td>\n",
              "    </tr>\n",
              "    <tr>\n",
              "      <th>2018-09-01</th>\n",
              "      <td>121.933333</td>\n",
              "    </tr>\n",
              "    <tr>\n",
              "      <th>2018-10-01</th>\n",
              "      <td>290.419355</td>\n",
              "    </tr>\n",
              "    <tr>\n",
              "      <th>2018-11-01</th>\n",
              "      <td>367.066667</td>\n",
              "    </tr>\n",
              "    <tr>\n",
              "      <th>2018-12-01</th>\n",
              "      <td>400.387097</td>\n",
              "    </tr>\n",
              "  </tbody>\n",
              "</table>\n",
              "</div>"
            ],
            "text/plain": [
              "                   AQI\n",
              "Date                  \n",
              "2015-01-01  342.290323\n",
              "2015-02-01  327.928571\n",
              "2015-03-01  256.064516\n",
              "2015-04-01  305.266667\n",
              "2015-05-01  348.580645\n",
              "2015-06-01  258.333333\n",
              "2015-07-01  200.290323\n",
              "2015-08-01  218.064516\n",
              "2015-09-01  225.300000\n",
              "2015-10-01  325.000000\n",
              "2015-11-01  405.033333\n",
              "2015-12-01  355.322581\n",
              "2016-01-01  441.903226\n",
              "2016-02-01  312.448276\n",
              "2016-03-01  230.096774\n",
              "2016-04-01  290.666667\n",
              "2016-05-01  268.354839\n",
              "2016-06-01  243.733333\n",
              "2016-07-01  165.935484\n",
              "2016-08-01  147.419355\n",
              "2016-09-01  218.700000\n",
              "2016-10-01  411.064516\n",
              "2016-11-01  474.833333\n",
              "2016-12-01  409.290323\n",
              "2017-01-01  354.193548\n",
              "2017-02-01  343.928571\n",
              "2017-03-01  282.258065\n",
              "2017-04-01  316.800000\n",
              "2017-05-01  315.419355\n",
              "2017-06-01  143.633333\n",
              "2017-07-01   67.161290\n",
              "2017-08-01   67.645161\n",
              "2017-09-01  114.666667\n",
              "2017-10-01  284.161290\n",
              "2017-11-01  406.733333\n",
              "2017-12-01  337.129032\n",
              "2018-01-01  349.741935\n",
              "2018-02-01  289.178571\n",
              "2018-03-01  234.129032\n",
              "2018-04-01  245.533333\n",
              "2018-05-01  235.322581\n",
              "2018-06-01  224.366667\n",
              "2018-07-01  112.419355\n",
              "2018-08-01  122.064516\n",
              "2018-09-01  121.933333\n",
              "2018-10-01  290.419355\n",
              "2018-11-01  367.066667\n",
              "2018-12-01  400.387097"
            ]
          },
          "metadata": {},
          "execution_count": 18
        }
      ]
    },
    {
      "cell_type": "code",
      "metadata": {
        "colab": {
          "base_uri": "https://localhost:8080/"
        },
        "id": "RuoDggrDTv1P",
        "outputId": "7b236447-a49d-4085-c229-6956743e180c"
      },
      "source": [
        "#Preprocessing the dataset\n",
        "\n",
        "from sklearn.preprocessing import MinMaxScaler\n",
        "scaler = MinMaxScaler()\n",
        "\n",
        "scaler.fit(train_arr)"
      ],
      "execution_count": null,
      "outputs": [
        {
          "output_type": "execute_result",
          "data": {
            "text/plain": [
              "MinMaxScaler(copy=True, feature_range=(0, 1))"
            ]
          },
          "metadata": {},
          "execution_count": 19
        }
      ]
    },
    {
      "cell_type": "code",
      "metadata": {
        "id": "K19L5o1jTv1Q"
      },
      "source": [
        "scaled_train = scaler.transform(train_arr)\n",
        "scaled_test = scaler.transform(test_arr)"
      ],
      "execution_count": null,
      "outputs": []
    },
    {
      "cell_type": "code",
      "metadata": {
        "id": "1kgdeqgyTv1R"
      },
      "source": [
        "#Defining our time series generator that would be used to parse data into the model\n",
        "\n",
        "from keras.preprocessing.sequence import TimeseriesGenerator\n",
        "n_input = 12\n",
        "n_features = 1\n",
        "generator = TimeseriesGenerator(scaled_train, scaled_train, length=n_input, batch_size=1)"
      ],
      "execution_count": null,
      "outputs": []
    },
    {
      "cell_type": "code",
      "metadata": {
        "colab": {
          "base_uri": "https://localhost:8080/"
        },
        "id": "6UCeYV3vTv1R",
        "outputId": "9765c3e6-d7e3-47ed-8437-b3bc32e69f9a"
      },
      "source": [
        "X,y = generator[0]\n",
        "print(f'Given the Array: \\n{X.flatten()}')\n",
        "print(f'Predict this y: \\n {y}')"
      ],
      "execution_count": null,
      "outputs": [
        {
          "output_type": "stream",
          "name": "stdout",
          "text": [
            "Given the Array: \n",
            "[0.67487834 0.63964965 0.46337057 0.58406109 0.6903082  0.46893587\n",
            " 0.32655914 0.37015839 0.38790668 0.63246601 0.82878394 0.70684585]\n",
            "Predict this y: \n",
            " [[0.91922402]]\n"
          ]
        }
      ]
    },
    {
      "cell_type": "code",
      "metadata": {
        "id": "vXYe2b46Tv1S"
      },
      "source": [
        "#Importing the necessary components to define our model\n",
        "\n",
        "from keras.models import Sequential\n",
        "from keras.layers import Dense\n",
        "from keras.layers import LSTM\n",
        "from keras.layers import Dropout\n",
        "from tensorflow.keras.optimizers import Adam"
      ],
      "execution_count": null,
      "outputs": []
    },
    {
      "cell_type": "code",
      "metadata": {
        "colab": {
          "base_uri": "https://localhost:8080/"
        },
        "id": "ZUwgkwWKTv1T",
        "outputId": "3523a108-cb13-4f09-f2c0-8f6849f706b0"
      },
      "source": [
        "# defining the stacked LSTM model\n",
        "model = Sequential(name = 'LSTM-Model')\n",
        "model.add(LSTM(32, activation='relu', return_sequences = True, input_shape=(n_input, n_features),name = \"LSTM_1\"))\n",
        "#model.add(LSTM(100, activation='relu', return_sequences = True,name = \"LSTM_2\"))\n",
        "#model.add(Dropout(0.2))\n",
        "model.add(LSTM(32, activation='relu',name = \"LSTM_2\"))\n",
        "#model.add(Dropout(0.2))\n",
        "#model.add(Dense(8))\n",
        "model.add(Dense(1,name = \"DENSE_1\"))\n",
        "model.compile(optimizer= 'adam',  loss='mse')\n",
        "\n",
        "model.summary()"
      ],
      "execution_count": null,
      "outputs": [
        {
          "output_type": "stream",
          "name": "stdout",
          "text": [
            "Model: \"LSTM-Model\"\n",
            "_________________________________________________________________\n",
            "Layer (type)                 Output Shape              Param #   \n",
            "=================================================================\n",
            "LSTM_1 (LSTM)                (None, 12, 32)            4352      \n",
            "_________________________________________________________________\n",
            "LSTM_2 (LSTM)                (None, 32)                8320      \n",
            "_________________________________________________________________\n",
            "DENSE_1 (Dense)              (None, 1)                 33        \n",
            "=================================================================\n",
            "Total params: 12,705\n",
            "Trainable params: 12,705\n",
            "Non-trainable params: 0\n",
            "_________________________________________________________________\n"
          ]
        }
      ]
    },
    {
      "cell_type": "code",
      "metadata": {
        "colab": {
          "base_uri": "https://localhost:8080/",
          "height": 422
        },
        "id": "DjGkayCdTv1U",
        "outputId": "224b1e62-df16-453a-e5cf-ccf52c62b4f6"
      },
      "source": [
        "#Plotting the layer structure\n",
        "from keras.utils.vis_utils import plot_model\n",
        "plot_model(model,show_shapes=True,show_layer_names=True,rankdir=\"TB\",dpi=96)\n"
      ],
      "execution_count": null,
      "outputs": [
        {
          "output_type": "execute_result",
          "data": {
            "image/png": "[encoded data removed]",
            "text/plain": [
              "<IPython.core.display.Image object>"
            ]
          },
          "metadata": {},
          "execution_count": 29
        }
      ]
    },
    {
      "cell_type": "code",
      "metadata": {
        "colab": {
          "base_uri": "https://localhost:8080/"
        },
        "id": "o9oejkF-Tv1U",
        "outputId": "09fa40b1-0ecc-479f-a8ec-a7d9d93ce79f"
      },
      "source": [
        "#Fitting our model\n",
        "model.fit_generator(generator,epochs=200)"
      ],
      "execution_count": null,
      "outputs": [
        {
          "output_type": "stream",
          "name": "stdout",
          "text": [
            "Epoch 1/200\n",
            "36/36 [==============================] - 0s 8ms/step - loss: 0.0276\n",
            "Epoch 2/200\n",
            "36/36 [==============================] - 0s 9ms/step - loss: 0.0227\n",
            "Epoch 3/200\n",
            "36/36 [==============================] - 0s 10ms/step - loss: 0.0251\n",
            "Epoch 4/200\n",
            "36/36 [==============================] - 0s 9ms/step - loss: 0.0260\n",
            "Epoch 5/200\n",
            "36/36 [==============================] - 0s 9ms/step - loss: 0.0220\n",
            "Epoch 6/200\n",
            "36/36 [==============================] - 0s 9ms/step - loss: 0.0323\n",
            "Epoch 7/200\n",
            "36/36 [==============================] - 0s 9ms/step - loss: 0.0345\n",
            "Epoch 8/200\n",
            "36/36 [==============================] - 0s 8ms/step - loss: 0.0242\n",
            "Epoch 9/200\n",
            "36/36 [==============================] - 0s 9ms/step - loss: 0.0235\n",
            "Epoch 10/200\n",
            "36/36 [==============================] - 0s 9ms/step - loss: 0.0226\n",
            "Epoch 11/200\n",
            "36/36 [==============================] - 0s 9ms/step - loss: 0.0210\n",
            "Epoch 12/200\n",
            "36/36 [==============================] - 0s 8ms/step - loss: 0.0174\n",
            "Epoch 13/200\n",
            "36/36 [==============================] - 0s 9ms/step - loss: 0.0286\n",
            "Epoch 14/200\n",
            "36/36 [==============================] - 0s 9ms/step - loss: 0.0179\n",
            "Epoch 15/200\n",
            "36/36 [==============================] - 0s 8ms/step - loss: 0.0231\n",
            "Epoch 16/200\n",
            "36/36 [==============================] - 0s 8ms/step - loss: 0.0190\n",
            "Epoch 17/200\n",
            "36/36 [==============================] - 0s 9ms/step - loss: 0.0162\n",
            "Epoch 18/200\n",
            "36/36 [==============================] - 0s 9ms/step - loss: 0.0149\n",
            "Epoch 19/200\n",
            "36/36 [==============================] - 0s 9ms/step - loss: 0.0175\n",
            "Epoch 20/200\n",
            "36/36 [==============================] - 0s 9ms/step - loss: 0.0137\n",
            "Epoch 21/200\n",
            "36/36 [==============================] - 0s 9ms/step - loss: 0.0203\n",
            "Epoch 22/200\n",
            "36/36 [==============================] - 0s 9ms/step - loss: 0.0165\n",
            "Epoch 23/200\n",
            "36/36 [==============================] - 0s 9ms/step - loss: 0.0143\n",
            "Epoch 24/200\n",
            "36/36 [==============================] - 0s 9ms/step - loss: 0.0136\n",
            "Epoch 25/200\n",
            "36/36 [==============================] - 0s 9ms/step - loss: 0.0128\n",
            "Epoch 26/200\n",
            "36/36 [==============================] - 0s 9ms/step - loss: 0.0121\n",
            "Epoch 27/200\n",
            "36/36 [==============================] - 0s 9ms/step - loss: 0.0119\n",
            "Epoch 28/200\n",
            "36/36 [==============================] - 0s 9ms/step - loss: 0.0139\n",
            "Epoch 29/200\n",
            "36/36 [==============================] - 0s 9ms/step - loss: 0.0116\n",
            "Epoch 30/200\n",
            "36/36 [==============================] - 0s 10ms/step - loss: 0.0182\n",
            "Epoch 31/200\n",
            "36/36 [==============================] - 0s 9ms/step - loss: 0.0126\n",
            "Epoch 32/200\n",
            "36/36 [==============================] - 0s 9ms/step - loss: 0.0119\n",
            "Epoch 33/200\n",
            "36/36 [==============================] - 0s 9ms/step - loss: 0.0102\n",
            "Epoch 34/200\n",
            "36/36 [==============================] - 0s 9ms/step - loss: 0.0116\n",
            "Epoch 35/200\n",
            "36/36 [==============================] - 0s 9ms/step - loss: 0.0150\n",
            "Epoch 36/200\n",
            "36/36 [==============================] - 0s 9ms/step - loss: 0.0126\n",
            "Epoch 37/200\n",
            "36/36 [==============================] - 0s 9ms/step - loss: 0.0131\n",
            "Epoch 38/200\n",
            "36/36 [==============================] - 0s 9ms/step - loss: 0.0126\n",
            "Epoch 39/200\n",
            "36/36 [==============================] - 0s 10ms/step - loss: 0.0129\n",
            "Epoch 40/200\n",
            "36/36 [==============================] - 0s 10ms/step - loss: 0.0117\n",
            "Epoch 41/200\n",
            "36/36 [==============================] - 0s 9ms/step - loss: 0.0125\n",
            "Epoch 42/200\n",
            "36/36 [==============================] - 0s 10ms/step - loss: 0.0115\n",
            "Epoch 43/200\n",
            "36/36 [==============================] - 0s 10ms/step - loss: 0.0117\n",
            "Epoch 44/200\n",
            "36/36 [==============================] - 0s 9ms/step - loss: 0.0125\n",
            "Epoch 45/200\n",
            "36/36 [==============================] - 0s 9ms/step - loss: 0.0113\n",
            "Epoch 46/200\n",
            "36/36 [==============================] - 0s 9ms/step - loss: 0.0093\n",
            "Epoch 47/200\n",
            "36/36 [==============================] - 0s 9ms/step - loss: 0.0117\n",
            "Epoch 48/200\n",
            "36/36 [==============================] - 0s 9ms/step - loss: 0.0105\n",
            "Epoch 49/200\n",
            "36/36 [==============================] - 0s 8ms/step - loss: 0.0116\n",
            "Epoch 50/200\n",
            "36/36 [==============================] - 0s 8ms/step - loss: 0.0113\n",
            "Epoch 51/200\n",
            "36/36 [==============================] - 0s 8ms/step - loss: 0.0095\n",
            "Epoch 52/200\n",
            "36/36 [==============================] - 0s 9ms/step - loss: 0.0092\n",
            "Epoch 53/200\n",
            "36/36 [==============================] - 0s 9ms/step - loss: 0.0082\n",
            "Epoch 54/200\n",
            "36/36 [==============================] - 0s 9ms/step - loss: 0.0098\n",
            "Epoch 55/200\n",
            "36/36 [==============================] - 0s 9ms/step - loss: 0.0104\n",
            "Epoch 56/200\n",
            "36/36 [==============================] - 0s 9ms/step - loss: 0.0121\n",
            "Epoch 57/200\n",
            "36/36 [==============================] - 0s 9ms/step - loss: 0.0090\n",
            "Epoch 58/200\n",
            "36/36 [==============================] - 0s 9ms/step - loss: 0.0089\n",
            "Epoch 59/200\n",
            "36/36 [==============================] - 0s 9ms/step - loss: 0.0098\n",
            "Epoch 60/200\n",
            "36/36 [==============================] - 0s 9ms/step - loss: 0.0084\n",
            "Epoch 61/200\n",
            "36/36 [==============================] - 0s 9ms/step - loss: 0.0084\n",
            "Epoch 62/200\n",
            "36/36 [==============================] - 0s 9ms/step - loss: 0.0091\n",
            "Epoch 63/200\n",
            "36/36 [==============================] - 0s 9ms/step - loss: 0.0087\n",
            "Epoch 64/200\n",
            "36/36 [==============================] - 0s 8ms/step - loss: 0.0128\n",
            "Epoch 65/200\n",
            "36/36 [==============================] - 0s 9ms/step - loss: 0.0090\n",
            "Epoch 66/200\n",
            "36/36 [==============================] - 0s 10ms/step - loss: 0.0116\n",
            "Epoch 67/200\n",
            "36/36 [==============================] - 0s 9ms/step - loss: 0.0102\n",
            "Epoch 68/200\n",
            "36/36 [==============================] - 0s 9ms/step - loss: 0.0121\n",
            "Epoch 69/200\n",
            "36/36 [==============================] - 0s 9ms/step - loss: 0.0088\n",
            "Epoch 70/200\n",
            "36/36 [==============================] - 0s 9ms/step - loss: 0.0120\n",
            "Epoch 71/200\n",
            "36/36 [==============================] - 0s 9ms/step - loss: 0.0120\n",
            "Epoch 72/200\n",
            "36/36 [==============================] - 0s 9ms/step - loss: 0.0101\n",
            "Epoch 73/200\n",
            "36/36 [==============================] - 0s 9ms/step - loss: 0.0110\n",
            "Epoch 74/200\n",
            "36/36 [==============================] - 0s 9ms/step - loss: 0.0083\n",
            "Epoch 75/200\n",
            "36/36 [==============================] - 0s 9ms/step - loss: 0.0087\n",
            "Epoch 76/200\n",
            "36/36 [==============================] - 0s 9ms/step - loss: 0.0082\n",
            "Epoch 77/200\n",
            "36/36 [==============================] - 0s 9ms/step - loss: 0.0086\n",
            "Epoch 78/200\n",
            "36/36 [==============================] - 0s 9ms/step - loss: 0.0079\n",
            "Epoch 79/200\n",
            "36/36 [==============================] - 0s 9ms/step - loss: 0.0086\n",
            "Epoch 80/200\n",
            "36/36 [==============================] - 0s 9ms/step - loss: 0.0111\n",
            "Epoch 81/200\n",
            "36/36 [==============================] - 0s 9ms/step - loss: 0.0093\n",
            "Epoch 82/200\n",
            "36/36 [==============================] - 0s 9ms/step - loss: 0.0078\n",
            "Epoch 83/200\n",
            "36/36 [==============================] - 0s 9ms/step - loss: 0.0072\n",
            "Epoch 84/200\n",
            "36/36 [==============================] - 0s 9ms/step - loss: 0.0081\n",
            "Epoch 85/200\n",
            "36/36 [==============================] - 0s 9ms/step - loss: 0.0094\n",
            "Epoch 86/200\n",
            "36/36 [==============================] - 0s 9ms/step - loss: 0.0088\n",
            "Epoch 87/200\n",
            "36/36 [==============================] - 0s 9ms/step - loss: 0.0078\n",
            "Epoch 88/200\n",
            "36/36 [==============================] - 0s 9ms/step - loss: 0.0084\n",
            "Epoch 89/200\n",
            "36/36 [==============================] - 0s 8ms/step - loss: 0.0109\n",
            "Epoch 90/200\n",
            "36/36 [==============================] - 0s 8ms/step - loss: 0.0087\n",
            "Epoch 91/200\n",
            "36/36 [==============================] - 0s 8ms/step - loss: 0.0080\n",
            "Epoch 92/200\n",
            "36/36 [==============================] - 0s 10ms/step - loss: 0.0092\n",
            "Epoch 93/200\n",
            "36/36 [==============================] - 0s 8ms/step - loss: 0.0099\n",
            "Epoch 94/200\n",
            "36/36 [==============================] - 0s 8ms/step - loss: 0.0066\n",
            "Epoch 95/200\n",
            "36/36 [==============================] - 0s 8ms/step - loss: 0.0077\n",
            "Epoch 96/200\n",
            "36/36 [==============================] - 0s 8ms/step - loss: 0.0080\n",
            "Epoch 97/200\n",
            "36/36 [==============================] - 0s 8ms/step - loss: 0.0068\n",
            "Epoch 98/200\n",
            "36/36 [==============================] - 0s 9ms/step - loss: 0.0063\n",
            "Epoch 99/200\n",
            "36/36 [==============================] - 0s 8ms/step - loss: 0.0079\n",
            "Epoch 100/200\n",
            "36/36 [==============================] - 0s 9ms/step - loss: 0.0073\n",
            "Epoch 101/200\n",
            "36/36 [==============================] - 0s 8ms/step - loss: 0.0086\n",
            "Epoch 102/200\n",
            "36/36 [==============================] - 0s 8ms/step - loss: 0.0079\n",
            "Epoch 103/200\n",
            "36/36 [==============================] - 0s 9ms/step - loss: 0.0068\n",
            "Epoch 104/200\n",
            "36/36 [==============================] - 0s 8ms/step - loss: 0.0100\n",
            "Epoch 105/200\n",
            "36/36 [==============================] - 0s 9ms/step - loss: 0.0071\n",
            "Epoch 106/200\n",
            "36/36 [==============================] - 0s 8ms/step - loss: 0.0069\n",
            "Epoch 107/200\n",
            "36/36 [==============================] - 0s 9ms/step - loss: 0.0072\n",
            "Epoch 108/200\n",
            "36/36 [==============================] - 0s 9ms/step - loss: 0.0081\n",
            "Epoch 109/200\n",
            "36/36 [==============================] - 0s 9ms/step - loss: 0.0069\n",
            "Epoch 110/200\n",
            "36/36 [==============================] - 0s 9ms/step - loss: 0.0070\n",
            "Epoch 111/200\n",
            "36/36 [==============================] - 0s 9ms/step - loss: 0.0076\n",
            "Epoch 112/200\n",
            "36/36 [==============================] - 0s 9ms/step - loss: 0.0079\n",
            "Epoch 113/200\n",
            "36/36 [==============================] - 0s 9ms/step - loss: 0.0074\n",
            "Epoch 114/200\n",
            "36/36 [==============================] - 0s 8ms/step - loss: 0.0065\n",
            "Epoch 115/200\n",
            "36/36 [==============================] - 0s 8ms/step - loss: 0.0068\n",
            "Epoch 116/200\n",
            "36/36 [==============================] - 0s 9ms/step - loss: 0.0065\n",
            "Epoch 117/200\n",
            "36/36 [==============================] - 0s 9ms/step - loss: 0.0085\n",
            "Epoch 118/200\n",
            "36/36 [==============================] - 0s 9ms/step - loss: 0.0074\n",
            "Epoch 119/200\n",
            "36/36 [==============================] - 0s 8ms/step - loss: 0.0080\n",
            "Epoch 120/200\n",
            "36/36 [==============================] - 0s 9ms/step - loss: 0.0062\n",
            "Epoch 121/200\n",
            "36/36 [==============================] - 0s 9ms/step - loss: 0.0067\n",
            "Epoch 122/200\n",
            "36/36 [==============================] - 0s 9ms/step - loss: 0.0074\n",
            "Epoch 123/200\n",
            "36/36 [==============================] - 0s 10ms/step - loss: 0.0089\n",
            "Epoch 124/200\n",
            "36/36 [==============================] - 0s 9ms/step - loss: 0.0066\n",
            "Epoch 125/200\n",
            "36/36 [==============================] - 0s 8ms/step - loss: 0.0068\n",
            "Epoch 126/200\n",
            "36/36 [==============================] - 0s 10ms/step - loss: 0.0079\n",
            "Epoch 127/200\n",
            "36/36 [==============================] - 0s 9ms/step - loss: 0.0083\n",
            "Epoch 128/200\n",
            "36/36 [==============================] - 0s 9ms/step - loss: 0.0062\n",
            "Epoch 129/200\n",
            "36/36 [==============================] - 0s 9ms/step - loss: 0.0061\n",
            "Epoch 130/200\n",
            "36/36 [==============================] - 0s 8ms/step - loss: 0.0058\n",
            "Epoch 131/200\n",
            "36/36 [==============================] - 0s 8ms/step - loss: 0.0070\n",
            "Epoch 132/200\n",
            "36/36 [==============================] - 0s 9ms/step - loss: 0.0076\n",
            "Epoch 133/200\n",
            "36/36 [==============================] - 0s 9ms/step - loss: 0.0080\n",
            "Epoch 134/200\n",
            "36/36 [==============================] - 0s 9ms/step - loss: 0.0098\n",
            "Epoch 135/200\n",
            "36/36 [==============================] - 0s 9ms/step - loss: 0.0097\n",
            "Epoch 136/200\n",
            "36/36 [==============================] - 0s 9ms/step - loss: 0.0090\n",
            "Epoch 137/200\n",
            "36/36 [==============================] - 0s 9ms/step - loss: 0.0078\n",
            "Epoch 138/200\n",
            "36/36 [==============================] - 0s 9ms/step - loss: 0.0070\n",
            "Epoch 139/200\n",
            "36/36 [==============================] - 0s 9ms/step - loss: 0.0063\n",
            "Epoch 140/200\n",
            "36/36 [==============================] - 0s 9ms/step - loss: 0.0056\n",
            "Epoch 141/200\n",
            "36/36 [==============================] - 0s 8ms/step - loss: 0.0077\n",
            "Epoch 142/200\n",
            "36/36 [==============================] - 0s 9ms/step - loss: 0.0058\n",
            "Epoch 143/200\n",
            "36/36 [==============================] - 0s 9ms/step - loss: 0.0053\n",
            "Epoch 144/200\n",
            "36/36 [==============================] - 0s 9ms/step - loss: 0.0064\n",
            "Epoch 145/200\n",
            "36/36 [==============================] - 0s 9ms/step - loss: 0.0054\n",
            "Epoch 146/200\n",
            "36/36 [==============================] - 0s 8ms/step - loss: 0.0055\n",
            "Epoch 147/200\n",
            "36/36 [==============================] - 0s 10ms/step - loss: 0.0062\n",
            "Epoch 148/200\n",
            "36/36 [==============================] - 0s 9ms/step - loss: 0.0067\n",
            "Epoch 149/200\n",
            "36/36 [==============================] - 0s 9ms/step - loss: 0.0052\n",
            "Epoch 150/200\n",
            "36/36 [==============================] - 0s 9ms/step - loss: 0.0053\n",
            "Epoch 151/200\n",
            "36/36 [==============================] - 0s 9ms/step - loss: 0.0060\n",
            "Epoch 152/200\n",
            "36/36 [==============================] - 0s 9ms/step - loss: 0.0072\n",
            "Epoch 153/200\n",
            "36/36 [==============================] - 0s 9ms/step - loss: 0.0059\n",
            "Epoch 154/200\n",
            "36/36 [==============================] - 0s 9ms/step - loss: 0.0060\n",
            "Epoch 155/200\n",
            "36/36 [==============================] - 0s 9ms/step - loss: 0.0050\n",
            "Epoch 156/200\n",
            "36/36 [==============================] - 0s 9ms/step - loss: 0.0058\n",
            "Epoch 157/200\n",
            "36/36 [==============================] - 0s 10ms/step - loss: 0.0056\n",
            "Epoch 158/200\n",
            "36/36 [==============================] - 0s 10ms/step - loss: 0.0058\n",
            "Epoch 159/200\n",
            "36/36 [==============================] - 0s 10ms/step - loss: 0.0057\n",
            "Epoch 160/200\n",
            "36/36 [==============================] - 0s 9ms/step - loss: 0.0054\n",
            "Epoch 161/200\n",
            "36/36 [==============================] - 0s 9ms/step - loss: 0.0066\n",
            "Epoch 162/200\n",
            "36/36 [==============================] - 0s 10ms/step - loss: 0.0053\n",
            "Epoch 163/200\n",
            "36/36 [==============================] - 0s 10ms/step - loss: 0.0053\n",
            "Epoch 164/200\n",
            "36/36 [==============================] - 0s 9ms/step - loss: 0.0052\n",
            "Epoch 165/200\n",
            "36/36 [==============================] - 0s 9ms/step - loss: 0.0052\n",
            "Epoch 166/200\n",
            "36/36 [==============================] - 0s 9ms/step - loss: 0.0046\n",
            "Epoch 167/200\n",
            "36/36 [==============================] - 0s 9ms/step - loss: 0.0069\n",
            "Epoch 168/200\n",
            "36/36 [==============================] - 0s 9ms/step - loss: 0.0052\n",
            "Epoch 169/200\n",
            "36/36 [==============================] - 0s 9ms/step - loss: 0.0057\n",
            "Epoch 170/200\n",
            "36/36 [==============================] - 0s 9ms/step - loss: 0.0054\n",
            "Epoch 171/200\n",
            "36/36 [==============================] - 0s 9ms/step - loss: 0.0044\n",
            "Epoch 172/200\n",
            "36/36 [==============================] - 0s 9ms/step - loss: 0.0048\n",
            "Epoch 173/200\n",
            "36/36 [==============================] - 0s 8ms/step - loss: 0.0050\n",
            "Epoch 174/200\n",
            "36/36 [==============================] - 0s 9ms/step - loss: 0.0044\n",
            "Epoch 175/200\n",
            "36/36 [==============================] - 0s 9ms/step - loss: 0.0060\n",
            "Epoch 176/200\n",
            "36/36 [==============================] - 0s 8ms/step - loss: 0.0059\n",
            "Epoch 177/200\n",
            "36/36 [==============================] - 0s 9ms/step - loss: 0.0088\n",
            "Epoch 178/200\n",
            "36/36 [==============================] - 0s 9ms/step - loss: 0.0051\n",
            "Epoch 179/200\n",
            "36/36 [==============================] - 0s 9ms/step - loss: 0.0056\n",
            "Epoch 180/200\n",
            "36/36 [==============================] - 0s 9ms/step - loss: 0.0044\n",
            "Epoch 181/200\n",
            "36/36 [==============================] - 0s 9ms/step - loss: 0.0053\n",
            "Epoch 182/200\n",
            "36/36 [==============================] - 0s 9ms/step - loss: 0.0049\n",
            "Epoch 183/200\n",
            "36/36 [==============================] - 0s 9ms/step - loss: 0.0056\n",
            "Epoch 184/200\n",
            "36/36 [==============================] - 0s 9ms/step - loss: 0.0042\n",
            "Epoch 185/200\n",
            "36/36 [==============================] - 0s 9ms/step - loss: 0.0046\n",
            "Epoch 186/200\n",
            "36/36 [==============================] - 0s 9ms/step - loss: 0.0055\n",
            "Epoch 187/200\n",
            "36/36 [==============================] - 0s 9ms/step - loss: 0.0042\n",
            "Epoch 188/200\n",
            "36/36 [==============================] - 0s 9ms/step - loss: 0.0044\n",
            "Epoch 189/200\n",
            "36/36 [==============================] - 0s 10ms/step - loss: 0.0055\n",
            "Epoch 190/200\n",
            "36/36 [==============================] - 0s 9ms/step - loss: 0.0052\n",
            "Epoch 191/200\n",
            "36/36 [==============================] - 0s 9ms/step - loss: 0.0050\n",
            "Epoch 192/200\n",
            "36/36 [==============================] - 0s 9ms/step - loss: 0.0043\n",
            "Epoch 193/200\n",
            "36/36 [==============================] - 0s 9ms/step - loss: 0.0066\n",
            "Epoch 194/200\n",
            "36/36 [==============================] - 0s 9ms/step - loss: 0.0051\n",
            "Epoch 195/200\n",
            "36/36 [==============================] - 0s 9ms/step - loss: 0.0083\n",
            "Epoch 196/200\n",
            "36/36 [==============================] - 0s 9ms/step - loss: 0.0062\n",
            "Epoch 197/200\n",
            "36/36 [==============================] - 0s 10ms/step - loss: 0.0044\n",
            "Epoch 198/200\n",
            "36/36 [==============================] - 0s 9ms/step - loss: 0.0073\n",
            "Epoch 199/200\n",
            "36/36 [==============================] - 0s 9ms/step - loss: 0.0048\n",
            "Epoch 200/200\n",
            "36/36 [==============================] - 0s 9ms/step - loss: 0.0040\n"
          ]
        },
        {
          "output_type": "execute_result",
          "data": {
            "text/plain": [
              "<keras.callbacks.History at 0x7f14fdd712d0>"
            ]
          },
          "metadata": {},
          "execution_count": 30
        }
      ]
    },
    {
      "cell_type": "code",
      "metadata": {
        "colab": {
          "base_uri": "https://localhost:8080/",
          "height": 282
        },
        "id": "Csyfx-bETv1V",
        "outputId": "ce2e8c8e-40fa-4fce-89c3-b8c6b2768ff5"
      },
      "source": [
        "#plotting the loss vs #of epoch \n",
        "loss_per_epoch = model.history.history['loss']\n",
        "plt.plot(range(len(loss_per_epoch)),loss_per_epoch)"
      ],
      "execution_count": null,
      "outputs": [
        {
          "output_type": "execute_result",
          "data": {
            "text/plain": [
              "[<matplotlib.lines.Line2D at 0x7f14fddeeed0>]"
            ]
          },
          "metadata": {},
          "execution_count": 31
        },
        {
          "output_type": "display_data",
          "data": {
            "image/png": "[encoded data removed]",
            "text/plain": [
              "<Figure size 432x288 with 1 Axes>"
            ]
          },
          "metadata": {
            "needs_background": "light"
          }
        }
      ]
    },
    {
      "cell_type": "code",
      "metadata": {
        "id": "qwV8DLpNTv1V"
      },
      "source": [
        "#Predicting using our model on the testing dataset\n",
        "test_predictions = []\n",
        "\n",
        "first_batch = scaled_train[-n_input:]\n",
        "current_batch = first_batch.reshape((1, n_input, n_features))\n",
        "\n",
        "for i in range(len(test)):\n",
        "      \n",
        "    current_pred = model.predict(current_batch)[0]\n",
        "    test_predictions.append(current_pred) \n",
        "    \n",
        "    current_batch = np.append(current_batch[:,1:,:],[[current_pred]],axis=1)"
      ],
      "execution_count": null,
      "outputs": []
    },
    {
      "cell_type": "code",
      "metadata": {
        "id": "xF6vWhF0Tv1X"
      },
      "source": [
        "test_predictions = scaler.inverse_transform(test_predictions)"
      ],
      "execution_count": null,
      "outputs": []
    },
    {
      "cell_type": "code",
      "metadata": {
        "colab": {
          "base_uri": "https://localhost:8080/"
        },
        "id": "856kx76DTv1X",
        "outputId": "d92dbced-900f-4616-b928-b305b474d693"
      },
      "source": [
        "print(test_predictions.shape)\n",
        "print(test_arr.shape)"
      ],
      "execution_count": null,
      "outputs": [
        {
          "output_type": "stream",
          "name": "stdout",
          "text": [
            "(13, 1)\n",
            "(13, 1)\n"
          ]
        }
      ]
    },
    {
      "cell_type": "code",
      "metadata": {
        "id": "E7wHYvjfTv1X"
      },
      "source": [
        "test_arr['Predictions'] = test_predictions"
      ],
      "execution_count": null,
      "outputs": []
    },
    {
      "cell_type": "code",
      "metadata": {
        "colab": {
          "base_uri": "https://localhost:8080/",
          "height": 283
        },
        "id": "pHLrlXOzTv1Y",
        "outputId": "5ec77531-2b1c-4875-c09f-bea0ec7016d6"
      },
      "source": [
        "#Plotting the true values vs predicted values on testing dataset\n",
        "plt.plot(test_arr['AQI'],label = 'AQI')\n",
        "plt.plot(test_arr['Predictions'],label = 'Predictions')\n",
        "\n",
        "plt.legend()"
      ],
      "execution_count": null,
      "outputs": [
        {
          "output_type": "execute_result",
          "data": {
            "text/plain": [
              "<matplotlib.legend.Legend at 0x7f14fd7f3190>"
            ]
          },
          "metadata": {},
          "execution_count": 36
        },
        {
          "output_type": "display_data",
          "data": {
            "image/png": "[encoded data removed]",
            "text/plain": [
              "<Figure size 432x288 with 1 Axes>"
            ]
          },
          "metadata": {
            "needs_background": "light"
          }
        }
      ]
    },
    {
      "cell_type": "code",
      "metadata": {
        "colab": {
          "base_uri": "https://localhost:8080/"
        },
        "id": "tVTJugWvTv1Y",
        "outputId": "e01f6abd-f52b-4153-833a-a2a895f9ebd9"
      },
      "source": [
        "#Calculating the root mean squared error on the testing dataset\n",
        "RMSE_test=np.sqrt(mean_squared_error(test_arr['AQI'],test_arr['Predictions']))\n",
        "print('RMSE on the testing dataset = ',RMSE_test)\n",
        "print('India_AQI=',test_arr['AQI'].mean())"
      ],
      "execution_count": null,
      "outputs": [
        {
          "output_type": "stream",
          "name": "stdout",
          "text": [
            "RMSE on the testing dataset =  45.43205076758475\n",
            "India_AQI= 238.05046082949306\n"
          ]
        }
      ]
    },
    {
      "cell_type": "code",
      "metadata": {
        "id": "nslvknTbTv1Z"
      },
      "source": [
        "#Predicting using our model on the training dataset\n",
        "train_predictions = []\n",
        "\n",
        "first_eval_batch = scaled_train[:n_input]\n",
        "current_batch = first_eval_batch.reshape((1, n_input, n_features))\n",
        "\n",
        "for i in range(len(train-n_input)):\n",
        "      \n",
        "    current_pred = model.predict(current_batch)[0]\n",
        "    train_predictions.append(current_pred) \n",
        "    \n",
        "    current_batch = np.append(current_batch[:,1:,:],[[current_pred]],axis=1)"
      ],
      "execution_count": null,
      "outputs": []
    },
    {
      "cell_type": "code",
      "metadata": {
        "id": "ZhOqrV4iTv1Z"
      },
      "source": [
        "train_predictions = scaler.inverse_transform(train_predictions)"
      ],
      "execution_count": null,
      "outputs": []
    },
    {
      "cell_type": "code",
      "metadata": {
        "colab": {
          "base_uri": "https://localhost:8080/"
        },
        "id": "-Tle6P4pTv1Z",
        "outputId": "cf02d785-a563-44cf-9d4b-4eb4138c233a"
      },
      "source": [
        "print(train_predictions.shape)\n",
        "print(train_arr.shape)"
      ],
      "execution_count": null,
      "outputs": [
        {
          "output_type": "stream",
          "name": "stdout",
          "text": [
            "(48, 1)\n",
            "(48, 1)\n"
          ]
        }
      ]
    },
    {
      "cell_type": "code",
      "metadata": {
        "id": "00FMYBIvTv1a"
      },
      "source": [
        "train_arr['Predictions'] = train_predictions"
      ],
      "execution_count": null,
      "outputs": []
    },
    {
      "cell_type": "code",
      "metadata": {
        "colab": {
          "base_uri": "https://localhost:8080/",
          "height": 501
        },
        "id": "xsTWAnn3Tv1a",
        "outputId": "1b1ef5f9-d9f9-4a1f-95bd-7b2d257c1368"
      },
      "source": [
        "#Plotting the true values vs predicted values on training dataset\n",
        "plt.figure(figsize=(12,8))\n",
        "plt.plot(train_arr['AQI'],label = 'AQI')\n",
        "plt.plot(train_arr['Predictions'],label = 'Predictions')\n",
        "plt.legend()"
      ],
      "execution_count": null,
      "outputs": [
        {
          "output_type": "execute_result",
          "data": {
            "text/plain": [
              "<matplotlib.legend.Legend at 0x7f14fce6e650>"
            ]
          },
          "metadata": {},
          "execution_count": 42
        },
        {
          "output_type": "display_data",
          "data": {
            "image/png": "[encoded data removed]",
            "text/plain": [
              "<Figure size 864x576 with 1 Axes>"
            ]
          },
          "metadata": {
            "needs_background": "light"
          }
        }
      ]
    },
    {
      "cell_type": "code",
      "metadata": {
        "colab": {
          "base_uri": "https://localhost:8080/"
        },
        "id": "cVYktBxqTv1a",
        "outputId": "b01b8589-1775-425f-fa47-9329b6301308"
      },
      "source": [
        "#Calculating the root mean squared error on the testing dataset\n",
        "RMSE_train =np.sqrt(mean_squared_error(train_arr['AQI'],train_arr['Predictions']))\n",
        "print('RMSE on the training dataset = ',RMSE_train)\n",
        "print('India_AQI=',train_arr['AQI'].mean())"
      ],
      "execution_count": null,
      "outputs": [
        {
          "output_type": "stream",
          "name": "stdout",
          "text": [
            "RMSE on the training dataset =  61.22611218974365\n",
            "India_AQI= 275.1711046334552\n"
          ]
        }
      ]
    },
    {
      "cell_type": "code",
      "metadata": {
        "id": "V3jJJvAoTv1b"
      },
      "source": [
        "delhi_arr= delhi\n",
        "scaled_delhi = scaler.transform(delhi_arr)"
      ],
      "execution_count": null,
      "outputs": []
    },
    {
      "cell_type": "code",
      "metadata": {
        "colab": {
          "base_uri": "https://localhost:8080/",
          "height": 445
        },
        "id": "U6WEHACCTv1b",
        "outputId": "b943a126-e8d0-4a3a-c3a5-7f42a9f88eda"
      },
      "source": [
        "delhi_arr"
      ],
      "execution_count": null,
      "outputs": [
        {
          "output_type": "execute_result",
          "data": {
            "text/html": [
              "<div>\n",
              "<style scoped>\n",
              "    .dataframe tbody tr th:only-of-type {\n",
              "        vertical-align: middle;\n",
              "    }\n",
              "\n",
              "    .dataframe tbody tr th {\n",
              "        vertical-align: top;\n",
              "    }\n",
              "\n",
              "    .dataframe thead th {\n",
              "        text-align: right;\n",
              "    }\n",
              "</style>\n",
              "<table border=\"1\" class=\"dataframe\">\n",
              "  <thead>\n",
              "    <tr style=\"text-align: right;\">\n",
              "      <th></th>\n",
              "      <th>AQI</th>\n",
              "    </tr>\n",
              "    <tr>\n",
              "      <th>Date</th>\n",
              "      <th></th>\n",
              "    </tr>\n",
              "  </thead>\n",
              "  <tbody>\n",
              "    <tr>\n",
              "      <th>2015-01-01</th>\n",
              "      <td>342.290323</td>\n",
              "    </tr>\n",
              "    <tr>\n",
              "      <th>2015-02-01</th>\n",
              "      <td>327.928571</td>\n",
              "    </tr>\n",
              "    <tr>\n",
              "      <th>2015-03-01</th>\n",
              "      <td>256.064516</td>\n",
              "    </tr>\n",
              "    <tr>\n",
              "      <th>2015-04-01</th>\n",
              "      <td>305.266667</td>\n",
              "    </tr>\n",
              "    <tr>\n",
              "      <th>2015-05-01</th>\n",
              "      <td>348.580645</td>\n",
              "    </tr>\n",
              "    <tr>\n",
              "      <th>...</th>\n",
              "      <td>...</td>\n",
              "    </tr>\n",
              "    <tr>\n",
              "      <th>2020-03-01</th>\n",
              "      <td>135.838710</td>\n",
              "    </tr>\n",
              "    <tr>\n",
              "      <th>2020-04-01</th>\n",
              "      <td>113.000000</td>\n",
              "    </tr>\n",
              "    <tr>\n",
              "      <th>2020-05-01</th>\n",
              "      <td>148.645161</td>\n",
              "    </tr>\n",
              "    <tr>\n",
              "      <th>2020-06-01</th>\n",
              "      <td>125.733333</td>\n",
              "    </tr>\n",
              "    <tr>\n",
              "      <th>2020-07-01</th>\n",
              "      <td>101.000000</td>\n",
              "    </tr>\n",
              "  </tbody>\n",
              "</table>\n",
              "<p>67 rows × 1 columns</p>\n",
              "</div>"
            ],
            "text/plain": [
              "                   AQI\n",
              "Date                  \n",
              "2015-01-01  342.290323\n",
              "2015-02-01  327.928571\n",
              "2015-03-01  256.064516\n",
              "2015-04-01  305.266667\n",
              "2015-05-01  348.580645\n",
              "...                ...\n",
              "2020-03-01  135.838710\n",
              "2020-04-01  113.000000\n",
              "2020-05-01  148.645161\n",
              "2020-06-01  125.733333\n",
              "2020-07-01  101.000000\n",
              "\n",
              "[67 rows x 1 columns]"
            ]
          },
          "metadata": {},
          "execution_count": 45
        }
      ]
    },
    {
      "cell_type": "code",
      "metadata": {
        "id": "vt-FjL01Tv1b"
      },
      "source": [
        "#Making the future predictions using our model\n",
        "fut_predictions = []\n",
        "\n",
        "first_eval_batch = scaled_delhi[-n_input:]\n",
        "current_batch = first_eval_batch.reshape((1, n_input, n_features))\n",
        "\n",
        "for i in range(12):\n",
        "    \n",
        "    current_pred = model.predict(current_batch)[0]\n",
        "    \n",
        "    \n",
        "    fut_predictions.append(current_pred) \n",
        "    \n",
        "    current_batch = np.append(current_batch[:,1:,:],[[current_pred]],axis=1)"
      ],
      "execution_count": null,
      "outputs": []
    },
    {
      "cell_type": "code",
      "metadata": {
        "id": "GrzU5CZLTv1c"
      },
      "source": [
        "fut_predictions = scaler.inverse_transform(fut_predictions)"
      ],
      "execution_count": null,
      "outputs": []
    },
    {
      "cell_type": "code",
      "metadata": {
        "colab": {
          "base_uri": "https://localhost:8080/",
          "height": 282
        },
        "id": "N6e2K64hTv1c",
        "outputId": "7ac4d705-17f4-4077-a91a-355620228a72"
      },
      "source": [
        "plt.plot(fut_predictions)"
      ],
      "execution_count": null,
      "outputs": [
        {
          "output_type": "execute_result",
          "data": {
            "text/plain": [
              "[<matplotlib.lines.Line2D at 0x7f15007ed250>]"
            ]
          },
          "metadata": {},
          "execution_count": 48
        },
        {
          "output_type": "display_data",
          "data": {
            "image/png": "[encoded data removed]",
            "text/plain": [
              "<Figure size 432x288 with 1 Axes>"
            ]
          },
          "metadata": {
            "needs_background": "light"
          }
        }
      ]
    },
    {
      "cell_type": "code",
      "metadata": {
        "id": "tloUGy-9Tv1c"
      },
      "source": [
        "complete_pred = np.concatenate((delhi_arr,fut_predictions))"
      ],
      "execution_count": null,
      "outputs": []
    },
    {
      "cell_type": "code",
      "metadata": {
        "colab": {
          "base_uri": "https://localhost:8080/",
          "height": 282
        },
        "id": "Afd8DkHcTv1d",
        "outputId": "08bd2db0-62f9-4ef0-b50f-52e8f847345e"
      },
      "source": [
        "plt.plot(complete_pred)"
      ],
      "execution_count": null,
      "outputs": [
        {
          "output_type": "execute_result",
          "data": {
            "text/plain": [
              "[<matplotlib.lines.Line2D at 0x7f14fd66f350>]"
            ]
          },
          "metadata": {},
          "execution_count": 50
        },
        {
          "output_type": "display_data",
          "data": {
            "image/png": "[encoded data removed]",
            "text/plain": [
              "<Figure size 432x288 with 1 Axes>"
            ]
          },
          "metadata": {
            "needs_background": "light"
          }
        }
      ]
    },
    {
      "cell_type": "code",
      "metadata": {
        "id": "eaNnE2NbZ8Rg"
      },
      "source": [
        ""
      ],
      "execution_count": null,
      "outputs": []
    }
  ]
}